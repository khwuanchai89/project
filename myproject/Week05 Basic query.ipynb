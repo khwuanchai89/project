{
 "cells": [
  {
   "cell_type": "code",
   "execution_count": 18,
   "metadata": {},
   "outputs": [
    {
     "name": "stdout",
     "output_type": "stream",
     "text": [
      "ลำใย M 12.00 0213967000000_SI59YGj.jpg\n",
      "มะม่วง V 90.00 b_Rvk7tq2.jpg\n",
      "แตงโม V 50.00 product001_etL3Mm7.jpg\n",
      "product_y M 12.00 \n"
     ]
    }
   ],
   "source": [
    "for i in Product.objects.all():\n",
    "    print(i.name,i.category,i.price,i.image)"
   ]
  },
  {
   "cell_type": "code",
   "execution_count": 13,
   "metadata": {},
   "outputs": [
    {
     "name": "stdout",
     "output_type": "stream",
     "text": [
      "มะม่วง V 90.00 b_Rvk7tq2.jpg\n",
      "แตงโม V 50.00 product001_etL3Mm7.jpg\n"
     ]
    }
   ],
   "source": [
    "for i in Product.objects.filter(category='V'):\n",
    "    print(i.name,i.category,i.price,i.image)"
   ]
  },
  {
   "cell_type": "code",
   "execution_count": 20,
   "metadata": {},
   "outputs": [
    {
     "name": "stdout",
     "output_type": "stream",
     "text": [
      "<class 'myapp.models.Product'>\n",
      "1 ลำใย\n"
     ]
    }
   ],
   "source": [
    "x = Product.objects.get(pk=1)\n",
    "print(type(x))\n",
    "print(x.pk,x)"
   ]
  },
  {
   "cell_type": "code",
   "execution_count": 22,
   "metadata": {},
   "outputs": [
    {
     "name": "stdout",
     "output_type": "stream",
     "text": [
      "<class 'django.db.models.query.QuerySet'>\n",
      "SELECT \"myapp_product\".\"id\", \"myapp_product\".\"name\", \"myapp_product\".\"price\", \"myapp_product\".\"category\", \"myapp_product\".\"image\" FROM \"myapp_product\"\n",
      "ลำใย\n",
      "มะม่วง\n",
      "แตงโม\n",
      "product_y\n"
     ]
    }
   ],
   "source": [
    "x = Product.objects.all()\n",
    "print(type(x))\n",
    "print(x.query)\n",
    "for i in x:\n",
    "    print(i)"
   ]
  },
  {
   "cell_type": "code",
   "execution_count": 24,
   "metadata": {},
   "outputs": [
    {
     "name": "stdout",
     "output_type": "stream",
     "text": [
      "SELECT \"myapp_product\".\"id\", \"myapp_product\".\"name\", \"myapp_product\".\"price\", \"myapp_product\".\"category\", \"myapp_product\".\"image\" FROM \"myapp_product\" WHERE \"myapp_product\".\"category\" = V\n"
     ]
    }
   ],
   "source": [
    "x = Product.objects.filter(category='V')\n",
    "print(x.query)"
   ]
  },
  {
   "cell_type": "code",
   "execution_count": 26,
   "metadata": {},
   "outputs": [
    {
     "name": "stdout",
     "output_type": "stream",
     "text": [
      "ลำใย\n",
      "มะม่วง\n",
      "แตงโม\n",
      "product_y\n"
     ]
    }
   ],
   "source": [
    "for p in Product.objects.raw('SELECT * FROM myapp_product'):\n",
    "    print(p)"
   ]
  },
  {
   "cell_type": "code",
   "execution_count": 16,
   "metadata": {},
   "outputs": [],
   "source": [
    "y = Product(name='product_y',price=12)"
   ]
  },
  {
   "cell_type": "code",
   "execution_count": 27,
   "metadata": {},
   "outputs": [
    {
     "name": "stdout",
     "output_type": "stream",
     "text": [
      "SELECT \"myapp_product\".\"id\", \"myapp_product\".\"name\", \"myapp_product\".\"price\", \"myapp_product\".\"category\", \"myapp_product\".\"image\" FROM \"myapp_product\" WHERE \"myapp_product\".\"price\" = 12\n"
     ]
    }
   ],
   "source": [
    "x = Product.objects.filter(price=12)\n",
    "print(x.query)"
   ]
  },
  {
   "cell_type": "code",
   "execution_count": 28,
   "metadata": {},
   "outputs": [
    {
     "name": "stdout",
     "output_type": "stream",
     "text": [
      "SELECT \"myapp_product\".\"id\", \"myapp_product\".\"name\", \"myapp_product\".\"price\", \"myapp_product\".\"category\", \"myapp_product\".\"image\" FROM \"myapp_product\" WHERE \"myapp_product\".\"price\" < 12\n"
     ]
    }
   ],
   "source": [
    "x = Product.objects.filter(price__lt=12)\n",
    "print(x.query)"
   ]
  },
  {
   "cell_type": "code",
   "execution_count": 29,
   "metadata": {},
   "outputs": [
    {
     "name": "stdout",
     "output_type": "stream",
     "text": [
      "SELECT \"myapp_product\".\"id\", \"myapp_product\".\"name\", \"myapp_product\".\"price\", \"myapp_product\".\"category\", \"myapp_product\".\"image\" FROM \"myapp_product\" WHERE \"myapp_product\".\"price\" <= 12\n"
     ]
    }
   ],
   "source": [
    "x = Product.objects.filter(price__lte=12)\n",
    "print(x.query)"
   ]
  },
  {
   "cell_type": "code",
   "execution_count": 17,
   "metadata": {},
   "outputs": [],
   "source": [
    "y.save()"
   ]
  },
  {
   "cell_type": "code",
   "execution_count": 3,
   "metadata": {},
   "outputs": [],
   "source": [
    "from import_export import resources\n",
    "class ProductResource(resources.ModelResource):\n",
    "    class Meta:\n",
    "        model = Product"
   ]
  },
  {
   "cell_type": "code",
   "execution_count": 4,
   "metadata": {},
   "outputs": [],
   "source": [
    "product_resource = ProductResource()\n",
    "dataset = product_resource.export()"
   ]
  },
  {
   "cell_type": "code",
   "execution_count": 5,
   "metadata": {},
   "outputs": [],
   "source": [
    "with open('myexcel.xls', 'wb') as f:\n",
    "    f.write(dataset.xls)"
   ]
  },
  {
   "cell_type": "code",
   "execution_count": 6,
   "metadata": {},
   "outputs": [
    {
     "name": "stdout",
     "output_type": "stream",
     "text": [
      "db.sqlite3\n",
      "manage.py\n",
      "media\n",
      "myapp\n",
      "myexcel.xls\n",
      "myproject\n",
      "static\n",
      "templates\n",
      "Untitled.ipynb\n",
      "Week05 Basic query.ipynb\n"
     ]
    }
   ],
   "source": [
    "%%sh\n",
    "ls"
   ]
  },
  {
   "cell_type": "code",
   "execution_count": null,
   "metadata": {},
   "outputs": [],
   "source": []
  }
 ],
 "metadata": {
  "kernelspec": {
   "display_name": "Django Shell-Plus",
   "language": "python",
   "name": "django_extensions"
  },
  "language_info": {
   "codemirror_mode": {
    "name": "ipython",
    "version": 3
   },
   "file_extension": ".py",
   "mimetype": "text/x-python",
   "name": "python",
   "nbconvert_exporter": "python",
   "pygments_lexer": "ipython3",
   "version": "3.6.7"
  }
 },
 "nbformat": 4,
 "nbformat_minor": 2
}
